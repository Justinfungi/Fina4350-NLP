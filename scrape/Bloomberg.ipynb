{
 "cells": [
  {
   "cell_type": "code",
   "execution_count": 3,
   "id": "20bf1a26",
   "metadata": {
    "ExecuteTime": {
     "end_time": "2023-03-23T12:18:24.479409Z",
     "start_time": "2023-03-23T12:18:24.344331Z"
    }
   },
   "outputs": [
    {
     "name": "stdout",
     "output_type": "stream",
     "text": [
      "https://www.bloomberg.com/news/articles/2023-03-22/evergrande-s-electric-car-unit-may-shut-down-without-new-funding\n",
      "https://www.bloomberg.com/news/articles/2023-03-23/tesla-started-a-price-war-in-china-s-car-market-that-may-destroy-some-automakers\n",
      "https://www.bloomberg.com/news/articles/2023-03-22/can-us-guarantee-all-bank-deposits-why-fdic-is-considering-raising-the-limit\n",
      "https://www.bloomberg.com/news/articles/2023-03-22/billions-of-ev-battery-dollars-teeter-as-us-finalizes-biden-climate-law\n",
      "https://www.bloomberg.com/news/articles/2023-03-22/tesla-prepares-its-latest-page-turner-proxy-with-eyes-on-elon-musk\n",
      "https://www.bloomberg.com/news/articles/2023-03-22/snap-can-t-count-on-a-tiktok-ban-to-ease-growth-woes-tech-watch\n",
      "https://www.bloomberg.com/news/articles/2023-03-22/ford-f-prepares-to-reveal-losses-from-its-ev-business\n",
      "https://www.bloomberg.com/news/articles/2023-03-22/china-s-nio-very-confident-of-reaching-sales-target-cfo-says\n",
      "https://www.bloomberg.com/news/videos/2023-03-21/why-elon-musk-is-a-big-headache-for-biden-video\n",
      "https://www.bloomberg.com/news/newsletters/2023-03-21/the-met-louise-casey-stormont-brake-partygate-the-readout\n",
      "https://www.bloomberg.com/news/articles/2023-03-21/electric-vehicle-batteries-of-the-future-may-be-lithium-less\n",
      "https://www.bloomberg.com/news/newsletters/2023-03-21/elon-musk-s-business-empire-may-put-him-out-of-washington-s-reach-big-take\n",
      "https://www.bloomberg.com/news/newsletters/2023-03-21/guarantee-the-bloomberg-open-americas-edition\n",
      "https://www.bloomberg.com/news/newsletters/2023-03-21/a-mug-shot-may-become-donald-trump-s-2024-campaign-image\n",
      "https://www.bloomberg.com/news/newsletters/2023-03-21/at1-respite-the-bloomberg-close-asia-edition\n",
      "https://www.bloomberg.com/news/articles/2023-03-21/europe-extends-car-sales-growth-streak-to-seven-months-as-evs-gain\n",
      "https://www.bloomberg.com/news/newsletters/2023-03-21/exposure-fallout-the-bloomberg-open-europe-edition\n",
      "https://www.bloomberg.com/news/articles/2023-03-20/china-s-ev-revolution-shows-grim-future-for-japan-s-car-titans\n",
      "https://www.bloomberg.com/news/features/2023-03-21/how-buying-twitter-made-elon-musk-one-of-joe-biden-s-biggest-headaches\n",
      "https://www.bloomberg.com/news/articles/2023-03-21/former-tesla-australia-boss-avoids-jail-after-insider-trading\n",
      "https://www.bloomberg.com/news/articles/2023-03-20/tesla-tsla-vision-of-electric-cars-without-rare-earths-to-spur-magnet-race\n",
      "https://www.bloomberg.com/news/newsletters/2023-03-20/both-xi-and-putin-stand-to-gain-from-their-moscow-meeting\n",
      "https://www.bloomberg.com/news/articles/2023-03-17/china-tech-giants-earnings-under-spotlight-after-svb-turmoil\n",
      "https://www.bloomberg.com/news/articles/2023-03-20/mini-nuclear-reactor-firm-newcleo-starts-to-raise-1-billion\n",
      "https://www.bloomberg.com/news/articles/2023-03-18/trump-arrest-claim-draws-allies-to-his-side-as-2024-bid-heats-up\n",
      "https://www.bloomberg.com/news/articles/2023-03-19/vw-plans-ev-for-less-than-20-000-brand-boss-tells-magazine\n",
      "https://www.bloomberg.com/opinion/articles/2023-03-19/elon-musk-s-texas-utopia-is-another-tycoon-cliche\n",
      "https://www.bloomberg.com/news/newsletters/2023-03-18/bloomberg-weekend-reading-fed-weighs-banking-chaos-agasint-inflation\n",
      "https://www.bloomberg.com/news/articles/2023-03-18/audi-ceo-seeks-to-catch-up-in-china-in-test-of-germany-s-grit\n",
      "https://www.bloomberg.com/news/newsletters/2023-03-17/bloomberg-evening-briefing-international-criminal-court-calls-for-putin-arrest\n",
      "https://www.bloomberg.com/news/articles/2023-03-17/transcript-what-the-boom-in-zero-day-options-means-for-stocks\n",
      "https://www.bloomberg.com/news/articles/2023-03-17/xpeng-s-loss-widens-and-sales-outlook-dims-with-48-drop-seen\n",
      "https://www.bloomberg.com/news/articles/2023-03-16/boeing-and-airbus-search-for-highly-skilled-talent-for-aviation-jobs-in-india\n",
      "https://www.bloomberg.com/news/articles/2023-03-17/musk-ran-sweaty-tesla-shop-in-massachusetts-fired-manager-says\n",
      "https://www.bloomberg.com/news/articles/2023-03-16/last-hurdle-for-ev-america-is-clean-batteries-getting-warmer-with-kal-penn\n",
      "https://www.bloomberg.com/news/articles/2023-03-16/tesla-turns-twitter-into-44-billion-communications-apparatus\n",
      "https://www.bloomberg.com/news/articles/2023-03-16/investors-reward-pdd-pdd-for-snatching-crown-in-china-online-price-war\n",
      "https://www.bloomberg.com/news/newsletters/2023-03-16/supply-chain-latest-us-importers-bore-cost-of-trump-s-china-tariffs-itc-says\n",
      "https://www.bloomberg.com/news/newsletters/2023-03-16/eu-s-bid-for-clean-tech-crown-sparks-doubts\n",
      "https://www.bloomberg.com/news/newsletters/2023-03-15/bloomberg-evening-briefing-panicky-markets-turn-on-embattled-credit-suisse\n",
      "https://www.bloomberg.com/news/articles/2023-03-15/tesla-accused-in-consumer-suit-of-monopolizing-repairs-parts\n",
      "https://www.bloomberg.com/news/articles/2023-03-15/vw-shows-25-000-ev-to-compete-where-tesla-has-left-an-opening\n",
      "https://www.bloomberg.com/news/articles/2023-03-15/vale-is-said-to-weigh-ipo-of-metals-unit-after-sale-of-10-stake\n",
      "https://www.bloomberg.com/news/newsletters/2023-03-15/how-russia-built-a-secret-pipeline-for-years-to-ensure-chip-supply-big-take\n",
      "https://www.bloomberg.com/news/articles/2023-03-15/vw-gets-ready-to-reveal-a-people-s-car-for-the-electric-age\n",
      "https://www.bloomberg.com/news/articles/2023-03-15/why-self-driving-cars-may-never-be-reality-big-take-podcast\n",
      "https://www.bloomberg.com/opinion/articles/2023-03-15/go-ahead-america-give-european-companies-billions-in-green-subsidies\n",
      "https://www.bloomberg.com/news/articles/2023-03-14/left-s-citron-deletes-old-tweets-citing-trolls-and-lawsuits\n",
      "https://www.bloomberg.com/news/articles/2023-03-14/gm-leaders-say-tesla-s-driver-assist-branding-confuses-consumers\n",
      "https://www.bloomberg.com/news/articles/2023-03-14/ev-production-is-slowly-catching-up-to-demand-in-north-america\n",
      "https://www.bloomberg.com/news/articles/2023-03-14/pete-buttigieg-talks-tesla-autopilot-and-electric-vehicle-charging\n",
      "https://www.bloomberg.com/news/videos/2023-03-14/vw-s-ev-efforts-get-180-billion-spending-boost\n",
      "https://www.bloomberg.com/opinion/articles/2023-03-14/your-next-porsche-will-be-really-expensive\n",
      "https://www.bloomberg.com/news/articles/2023-03-14/vw-swings-180-billion-spending-plan-further-to-new-technology\n",
      "https://www.bloomberg.com/news/articles/2023-03-13/tesla-autopilot-doesn-t-live-up-to-its-name-buttigieg-says\n",
      "https://www.bloomberg.com/news/articles/2023-03-13/elon-musk-s-planned-texas-fiefdom-is-a-billionaire-tradition\n",
      "https://www.bloomberg.com/news/articles/2023-03-13/catl-s-ev-battery-dominance-shouldn-t-cause-xi-undue-worry\n",
      "https://www.bloomberg.com/news/articles/2023-03-13/carmaker-s-1-5-million-internet-troll-fighting-plan-backfires\n",
      "https://www.bloomberg.com/news/articles/2023-03-11/vw-ceo-s-berlin-ipo-summit-leaves-attendees-guessing-on-strategy\n",
      "https://www.bloomberg.com/news/articles/2023-03-10/solar-firm-sunrun-slumps-most-in-nine-months-on-svb-exposure\n",
      "https://www.bloomberg.com/news/articles/2023-03-10/short-bets-on-cathie-wood-s-arkk-jump-to-fresh-record-as-rate-hike-fears-grow\n",
      "https://www.bloomberg.com/opinion/articles/2023-03-10/howard-schultz-s-halo-slips-in-starbucks-union-battle\n",
      "https://www.bloomberg.com/news/articles/2023-03-10/lordstown-ride-founder-sold-59-million-stock-before-electric-truck-stalled\n",
      "https://www.bloomberg.com/news/articles/2023-03-10/great-wall-latest-chinese-automaker-to-embrace-green-car-future\n",
      "https://www.bloomberg.com/news/articles/2023-03-10/vinfast-ev-production-in-us-now-not-expected-to-start-until-2025\n",
      "https://www.bloomberg.com/news/articles/2023-03-10/mitsubishi-motors-plays-catchup-with-plans-to-electrify-fleet-by-2035\n",
      "https://www.bloomberg.com/news/articles/2023-03-10/7-stunning-island-hotels-around-the-world-opening-in-2023\n",
      "https://www.bloomberg.com/news/articles/2023-03-10/china-ev-stocks-slip-as-automakers-continue-to-mark-down-prices\n",
      "https://www.bloomberg.com/news/articles/2023-03-10/harris-to-host-executives-workers-as-white-house-courts-labor\n",
      "https://www.bloomberg.com/news/articles/2023-03-09/tesla-begins-hiring-for-mexico-plant-as-amlo-meets-executives\n",
      "https://www.bloomberg.com/news/articles/2023-03-09/why-doesn-t-austin-have-more-affordable-housing\n",
      "https://www.bloomberg.com/news/articles/2023-03-09/tesla-supplier-catl-smashes-profit-estimate-as-ev-sales-soar\n",
      "https://www.bloomberg.com/news/articles/2023-03-09/bmw-earnings-in-line-with-expectations-on-pent-up-car-demand\n",
      "https://www.bloomberg.com/news/articles/2023-03-09/average-range-for-us-electric-cars-reached-a-record-291-miles\n",
      "https://www.bloomberg.com/news/newsletters/2023-03-09/elon-musk-s-mockery-of-disabled-worker-adds-to-twitter-s-legal-liabilities\n",
      "https://www.bloomberg.com/news/articles/2023-03-09/intel-s-troubles-run-so-deep-even-bulls-are-wary-tech-watch\n",
      "https://www.bloomberg.com/news/features/2023-03-09/gas-stove-ban-panic-could-fuel-induction-range-growth\n",
      "https://www.bloomberg.com/news/articles/2023-03-09/transcript-zero-episode-30-from-scientist-to-ceo-with-katie-rae\n",
      "https://www.bloomberg.com/news/articles/2023-03-09/china-s-ev-price-war-extends-to-gasoline-cars-as-sales-squeezed\n"
     ]
    }
   ],
   "source": [
    "import requests\n",
    "from bs4 import BeautifulSoup as bs\n",
    "from lxml import etree\n",
    "from urllib import request\n",
    "import re\n",
    "\n",
    "with open('../Sources/Search - Bloomberg.html','r') as html_file:\n",
    "    local = html_file.read()\n",
    "    \n",
    "s = bs(local,'lxml')\n",
    "link = s.find_all(\"a\",attrs={\"class\":\"thumbnailWrapper__23c201ad78\"})\n",
    "target = []\n",
    "for i in link:\n",
    "    target.append(i[\"href\"])\n",
    "    print(i[\"href\"])"
   ]
  },
  {
   "cell_type": "code",
   "execution_count": 4,
   "id": "cb8659e0",
   "metadata": {
    "ExecuteTime": {
     "end_time": "2023-03-23T12:18:31.209387Z",
     "start_time": "2023-03-23T12:18:31.194392Z"
    }
   },
   "outputs": [
    {
     "data": {
      "text/plain": [
       "['https://www.bloomberg.com/news/articles/2023-03-22/evergrande-s-electric-car-unit-may-shut-down-without-new-funding',\n",
       " 'https://www.bloomberg.com/news/articles/2023-03-23/tesla-started-a-price-war-in-china-s-car-market-that-may-destroy-some-automakers',\n",
       " 'https://www.bloomberg.com/news/articles/2023-03-22/can-us-guarantee-all-bank-deposits-why-fdic-is-considering-raising-the-limit',\n",
       " 'https://www.bloomberg.com/news/articles/2023-03-22/billions-of-ev-battery-dollars-teeter-as-us-finalizes-biden-climate-law',\n",
       " 'https://www.bloomberg.com/news/articles/2023-03-22/tesla-prepares-its-latest-page-turner-proxy-with-eyes-on-elon-musk',\n",
       " 'https://www.bloomberg.com/news/articles/2023-03-22/snap-can-t-count-on-a-tiktok-ban-to-ease-growth-woes-tech-watch',\n",
       " 'https://www.bloomberg.com/news/articles/2023-03-22/ford-f-prepares-to-reveal-losses-from-its-ev-business',\n",
       " 'https://www.bloomberg.com/news/articles/2023-03-22/china-s-nio-very-confident-of-reaching-sales-target-cfo-says',\n",
       " 'https://www.bloomberg.com/news/videos/2023-03-21/why-elon-musk-is-a-big-headache-for-biden-video',\n",
       " 'https://www.bloomberg.com/news/newsletters/2023-03-21/the-met-louise-casey-stormont-brake-partygate-the-readout',\n",
       " 'https://www.bloomberg.com/news/articles/2023-03-21/electric-vehicle-batteries-of-the-future-may-be-lithium-less',\n",
       " 'https://www.bloomberg.com/news/newsletters/2023-03-21/elon-musk-s-business-empire-may-put-him-out-of-washington-s-reach-big-take',\n",
       " 'https://www.bloomberg.com/news/newsletters/2023-03-21/guarantee-the-bloomberg-open-americas-edition',\n",
       " 'https://www.bloomberg.com/news/newsletters/2023-03-21/a-mug-shot-may-become-donald-trump-s-2024-campaign-image',\n",
       " 'https://www.bloomberg.com/news/newsletters/2023-03-21/at1-respite-the-bloomberg-close-asia-edition',\n",
       " 'https://www.bloomberg.com/news/articles/2023-03-21/europe-extends-car-sales-growth-streak-to-seven-months-as-evs-gain',\n",
       " 'https://www.bloomberg.com/news/newsletters/2023-03-21/exposure-fallout-the-bloomberg-open-europe-edition',\n",
       " 'https://www.bloomberg.com/news/articles/2023-03-20/china-s-ev-revolution-shows-grim-future-for-japan-s-car-titans',\n",
       " 'https://www.bloomberg.com/news/features/2023-03-21/how-buying-twitter-made-elon-musk-one-of-joe-biden-s-biggest-headaches',\n",
       " 'https://www.bloomberg.com/news/articles/2023-03-21/former-tesla-australia-boss-avoids-jail-after-insider-trading',\n",
       " 'https://www.bloomberg.com/news/articles/2023-03-20/tesla-tsla-vision-of-electric-cars-without-rare-earths-to-spur-magnet-race',\n",
       " 'https://www.bloomberg.com/news/newsletters/2023-03-20/both-xi-and-putin-stand-to-gain-from-their-moscow-meeting',\n",
       " 'https://www.bloomberg.com/news/articles/2023-03-17/china-tech-giants-earnings-under-spotlight-after-svb-turmoil',\n",
       " 'https://www.bloomberg.com/news/articles/2023-03-20/mini-nuclear-reactor-firm-newcleo-starts-to-raise-1-billion',\n",
       " 'https://www.bloomberg.com/news/articles/2023-03-18/trump-arrest-claim-draws-allies-to-his-side-as-2024-bid-heats-up',\n",
       " 'https://www.bloomberg.com/news/articles/2023-03-19/vw-plans-ev-for-less-than-20-000-brand-boss-tells-magazine',\n",
       " 'https://www.bloomberg.com/opinion/articles/2023-03-19/elon-musk-s-texas-utopia-is-another-tycoon-cliche',\n",
       " 'https://www.bloomberg.com/news/newsletters/2023-03-18/bloomberg-weekend-reading-fed-weighs-banking-chaos-agasint-inflation',\n",
       " 'https://www.bloomberg.com/news/articles/2023-03-18/audi-ceo-seeks-to-catch-up-in-china-in-test-of-germany-s-grit',\n",
       " 'https://www.bloomberg.com/news/newsletters/2023-03-17/bloomberg-evening-briefing-international-criminal-court-calls-for-putin-arrest',\n",
       " 'https://www.bloomberg.com/news/articles/2023-03-17/transcript-what-the-boom-in-zero-day-options-means-for-stocks',\n",
       " 'https://www.bloomberg.com/news/articles/2023-03-17/xpeng-s-loss-widens-and-sales-outlook-dims-with-48-drop-seen',\n",
       " 'https://www.bloomberg.com/news/articles/2023-03-16/boeing-and-airbus-search-for-highly-skilled-talent-for-aviation-jobs-in-india',\n",
       " 'https://www.bloomberg.com/news/articles/2023-03-17/musk-ran-sweaty-tesla-shop-in-massachusetts-fired-manager-says',\n",
       " 'https://www.bloomberg.com/news/articles/2023-03-16/last-hurdle-for-ev-america-is-clean-batteries-getting-warmer-with-kal-penn',\n",
       " 'https://www.bloomberg.com/news/articles/2023-03-16/tesla-turns-twitter-into-44-billion-communications-apparatus',\n",
       " 'https://www.bloomberg.com/news/articles/2023-03-16/investors-reward-pdd-pdd-for-snatching-crown-in-china-online-price-war',\n",
       " 'https://www.bloomberg.com/news/newsletters/2023-03-16/supply-chain-latest-us-importers-bore-cost-of-trump-s-china-tariffs-itc-says',\n",
       " 'https://www.bloomberg.com/news/newsletters/2023-03-16/eu-s-bid-for-clean-tech-crown-sparks-doubts',\n",
       " 'https://www.bloomberg.com/news/newsletters/2023-03-15/bloomberg-evening-briefing-panicky-markets-turn-on-embattled-credit-suisse',\n",
       " 'https://www.bloomberg.com/news/articles/2023-03-15/tesla-accused-in-consumer-suit-of-monopolizing-repairs-parts',\n",
       " 'https://www.bloomberg.com/news/articles/2023-03-15/vw-shows-25-000-ev-to-compete-where-tesla-has-left-an-opening',\n",
       " 'https://www.bloomberg.com/news/articles/2023-03-15/vale-is-said-to-weigh-ipo-of-metals-unit-after-sale-of-10-stake',\n",
       " 'https://www.bloomberg.com/news/newsletters/2023-03-15/how-russia-built-a-secret-pipeline-for-years-to-ensure-chip-supply-big-take',\n",
       " 'https://www.bloomberg.com/news/articles/2023-03-15/vw-gets-ready-to-reveal-a-people-s-car-for-the-electric-age',\n",
       " 'https://www.bloomberg.com/news/articles/2023-03-15/why-self-driving-cars-may-never-be-reality-big-take-podcast',\n",
       " 'https://www.bloomberg.com/opinion/articles/2023-03-15/go-ahead-america-give-european-companies-billions-in-green-subsidies',\n",
       " 'https://www.bloomberg.com/news/articles/2023-03-14/left-s-citron-deletes-old-tweets-citing-trolls-and-lawsuits',\n",
       " 'https://www.bloomberg.com/news/articles/2023-03-14/gm-leaders-say-tesla-s-driver-assist-branding-confuses-consumers',\n",
       " 'https://www.bloomberg.com/news/articles/2023-03-14/ev-production-is-slowly-catching-up-to-demand-in-north-america',\n",
       " 'https://www.bloomberg.com/news/articles/2023-03-14/pete-buttigieg-talks-tesla-autopilot-and-electric-vehicle-charging',\n",
       " 'https://www.bloomberg.com/news/videos/2023-03-14/vw-s-ev-efforts-get-180-billion-spending-boost',\n",
       " 'https://www.bloomberg.com/opinion/articles/2023-03-14/your-next-porsche-will-be-really-expensive',\n",
       " 'https://www.bloomberg.com/news/articles/2023-03-14/vw-swings-180-billion-spending-plan-further-to-new-technology',\n",
       " 'https://www.bloomberg.com/news/articles/2023-03-13/tesla-autopilot-doesn-t-live-up-to-its-name-buttigieg-says',\n",
       " 'https://www.bloomberg.com/news/articles/2023-03-13/elon-musk-s-planned-texas-fiefdom-is-a-billionaire-tradition',\n",
       " 'https://www.bloomberg.com/news/articles/2023-03-13/catl-s-ev-battery-dominance-shouldn-t-cause-xi-undue-worry',\n",
       " 'https://www.bloomberg.com/news/articles/2023-03-13/carmaker-s-1-5-million-internet-troll-fighting-plan-backfires',\n",
       " 'https://www.bloomberg.com/news/articles/2023-03-11/vw-ceo-s-berlin-ipo-summit-leaves-attendees-guessing-on-strategy',\n",
       " 'https://www.bloomberg.com/news/articles/2023-03-10/solar-firm-sunrun-slumps-most-in-nine-months-on-svb-exposure',\n",
       " 'https://www.bloomberg.com/news/articles/2023-03-10/short-bets-on-cathie-wood-s-arkk-jump-to-fresh-record-as-rate-hike-fears-grow',\n",
       " 'https://www.bloomberg.com/opinion/articles/2023-03-10/howard-schultz-s-halo-slips-in-starbucks-union-battle',\n",
       " 'https://www.bloomberg.com/news/articles/2023-03-10/lordstown-ride-founder-sold-59-million-stock-before-electric-truck-stalled',\n",
       " 'https://www.bloomberg.com/news/articles/2023-03-10/great-wall-latest-chinese-automaker-to-embrace-green-car-future',\n",
       " 'https://www.bloomberg.com/news/articles/2023-03-10/vinfast-ev-production-in-us-now-not-expected-to-start-until-2025',\n",
       " 'https://www.bloomberg.com/news/articles/2023-03-10/mitsubishi-motors-plays-catchup-with-plans-to-electrify-fleet-by-2035',\n",
       " 'https://www.bloomberg.com/news/articles/2023-03-10/7-stunning-island-hotels-around-the-world-opening-in-2023',\n",
       " 'https://www.bloomberg.com/news/articles/2023-03-10/china-ev-stocks-slip-as-automakers-continue-to-mark-down-prices',\n",
       " 'https://www.bloomberg.com/news/articles/2023-03-10/harris-to-host-executives-workers-as-white-house-courts-labor',\n",
       " 'https://www.bloomberg.com/news/articles/2023-03-09/tesla-begins-hiring-for-mexico-plant-as-amlo-meets-executives',\n",
       " 'https://www.bloomberg.com/news/articles/2023-03-09/why-doesn-t-austin-have-more-affordable-housing',\n",
       " 'https://www.bloomberg.com/news/articles/2023-03-09/tesla-supplier-catl-smashes-profit-estimate-as-ev-sales-soar',\n",
       " 'https://www.bloomberg.com/news/articles/2023-03-09/bmw-earnings-in-line-with-expectations-on-pent-up-car-demand',\n",
       " 'https://www.bloomberg.com/news/articles/2023-03-09/average-range-for-us-electric-cars-reached-a-record-291-miles',\n",
       " 'https://www.bloomberg.com/news/newsletters/2023-03-09/elon-musk-s-mockery-of-disabled-worker-adds-to-twitter-s-legal-liabilities',\n",
       " 'https://www.bloomberg.com/news/articles/2023-03-09/intel-s-troubles-run-so-deep-even-bulls-are-wary-tech-watch',\n",
       " 'https://www.bloomberg.com/news/features/2023-03-09/gas-stove-ban-panic-could-fuel-induction-range-growth',\n",
       " 'https://www.bloomberg.com/news/articles/2023-03-09/transcript-zero-episode-30-from-scientist-to-ceo-with-katie-rae',\n",
       " 'https://www.bloomberg.com/news/articles/2023-03-09/china-s-ev-price-war-extends-to-gasoline-cars-as-sales-squeezed']"
      ]
     },
     "execution_count": 4,
     "metadata": {},
     "output_type": "execute_result"
    }
   ],
   "source": [
    "target"
   ]
  },
  {
   "cell_type": "code",
   "execution_count": 36,
   "id": "a50dcb47",
   "metadata": {
    "ExecuteTime": {
     "end_time": "2023-03-23T12:45:55.649310Z",
     "start_time": "2023-03-23T12:45:40.164866Z"
    }
   },
   "outputs": [
    {
     "name": "stderr",
     "output_type": "stream",
     "text": [
      "/tmp/ipykernel_104007/3987816577.py:7: DeprecationWarning: executable_path has been deprecated, please pass in a Service object\n",
      "  driver= webdriver.Chrome('/home/fish/Documents/WebScraping/driver/chromedriver_ubuntu119')\n"
     ]
    }
   ],
   "source": [
    "from selenium import webdriver\n",
    "from selenium . webdriver . chrome .service import Service\n",
    "from selenium . webdriver . common. keys import Keys\n",
    "from selenium . webdriver . common. by import By\n",
    "import os\n",
    "from selenium.webdriver.support.wait import WebDriverWait\n",
    "driver= webdriver.Chrome('/home/fish/Documents/WebScraping/driver/chromedriver_ubuntu119')\n",
    "driver. get (target[1])"
   ]
  },
  {
   "cell_type": "code",
   "execution_count": 37,
   "id": "82b5204c",
   "metadata": {
    "ExecuteTime": {
     "end_time": "2023-03-23T12:45:55.711116Z",
     "start_time": "2023-03-23T12:45:55.653165Z"
    }
   },
   "outputs": [
    {
     "data": {
      "text/plain": [
       "'Tesla Started a China Price War That May Destroy Some Carmakers'"
      ]
     },
     "execution_count": 37,
     "metadata": {},
     "output_type": "execute_result"
    }
   ],
   "source": [
    "e = driver.find_element(By.XPATH, '/html/body/div[3]/main/div/div/article/div/div[2]/h1')\n",
    "e.text"
   ]
  },
  {
   "cell_type": "code",
   "execution_count": 38,
   "id": "44ca15be",
   "metadata": {
    "ExecuteTime": {
     "end_time": "2023-03-23T12:46:02.886455Z",
     "start_time": "2023-03-23T12:46:02.848130Z"
    }
   },
   "outputs": [
    {
     "data": {
      "text/plain": [
       "'Discounts have made some Teslas almost 50% cheaper than in US'"
      ]
     },
     "execution_count": 38,
     "metadata": {},
     "output_type": "execute_result"
    }
   ],
   "source": [
    "e = driver.find_element(By.XPATH, '/html/body/div[3]/main/div/div/article/div/div[2]/ul/li[1]')\n",
    "e.text"
   ]
  },
  {
   "cell_type": "code",
   "execution_count": 39,
   "id": "3e251697",
   "metadata": {
    "ExecuteTime": {
     "end_time": "2023-03-23T12:46:00.983235Z",
     "start_time": "2023-03-23T12:46:00.945854Z"
    }
   },
   "outputs": [
    {
     "data": {
      "text/plain": [
       "'Industry is in line for some ‘profound consolidation’: Nio CFO'"
      ]
     },
     "execution_count": 39,
     "metadata": {},
     "output_type": "execute_result"
    }
   ],
   "source": [
    "e = driver.find_element(By.XPATH, '/html/body/div[3]/main/div/div/article/div/div[2]/ul/li[2]')\n",
    "e.text"
   ]
  },
  {
   "cell_type": "code",
   "execution_count": 40,
   "id": "94cd27d0",
   "metadata": {
    "ExecuteTime": {
     "end_time": "2023-03-23T12:46:02.886455Z",
     "start_time": "2023-03-23T12:46:02.848130Z"
    }
   },
   "outputs": [
    {
     "data": {
      "text/plain": [
       "'March 23, 2023 at 8:09 AM GMT+8'"
      ]
     },
     "execution_count": 40,
     "metadata": {},
     "output_type": "execute_result"
    }
   ],
   "source": [
    "e = driver.find_element(By.XPATH, '/html/body/div[3]/main/div/div/article/div/div[3]/div[1]/div[1]/time')\n",
    "e.text"
   ]
  },
  {
   "cell_type": "code",
   "execution_count": 41,
   "id": "32d33dfc",
   "metadata": {
    "ExecuteTime": {
     "end_time": "2023-03-23T12:46:04.815834Z",
     "start_time": "2023-03-23T12:46:04.700531Z"
    }
   },
   "outputs": [
    {
     "data": {
      "text/plain": [
       "'Tesla Inc. triggered a price war in China that’s poised to reshape the world’s biggest car market, with hefty discounts threatening to drive some automakers out of business. '"
      ]
     },
     "execution_count": 41,
     "metadata": {},
     "output_type": "execute_result"
    }
   ],
   "source": [
    "e = driver.find_element(By.XPATH, '/html/body/div[3]/main/div/div/article/div/div[3]/div[2]/div/div/p[1]')\n",
    "e.text"
   ]
  },
  {
   "cell_type": "code",
   "execution_count": 42,
   "id": "0a0f8ae5",
   "metadata": {
    "ExecuteTime": {
     "end_time": "2023-03-23T12:46:06.622551Z",
     "start_time": "2023-03-23T12:46:06.590355Z"
    }
   },
   "outputs": [
    {
     "data": {
      "text/plain": [
       "'In October, Elon Musk’s electric-vehicle maker — a major player in hyper-competitive China — cut prices on models produced at its enormous factory on the outskirts of Shanghai. Matters escalated in January, with another discount that left Tesla’s locally-made cars up to 14% cheaper than last year, and in some cases almost 50% less expensive than in the US and Europe. '"
      ]
     },
     "execution_count": 42,
     "metadata": {},
     "output_type": "execute_result"
    }
   ],
   "source": [
    "e = driver.find_element(By.XPATH, '/html/body/div[3]/main/div/div/article/div/div[3]/div[2]/div/div/p[2]')\n",
    "e.text"
   ]
  }
 ],
 "metadata": {
  "kernelspec": {
   "display_name": "Python 3 (ipykernel)",
   "language": "python",
   "name": "python3"
  },
  "language_info": {
   "codemirror_mode": {
    "name": "ipython",
    "version": 3
   },
   "file_extension": ".py",
   "mimetype": "text/x-python",
   "name": "python",
   "nbconvert_exporter": "python",
   "pygments_lexer": "ipython3",
   "version": "3.9.12"
  },
  "toc": {
   "base_numbering": 1,
   "nav_menu": {},
   "number_sections": true,
   "sideBar": true,
   "skip_h1_title": false,
   "title_cell": "Table of Contents",
   "title_sidebar": "Contents",
   "toc_cell": false,
   "toc_position": {},
   "toc_section_display": true,
   "toc_window_display": false
  }
 },
 "nbformat": 4,
 "nbformat_minor": 5
}
