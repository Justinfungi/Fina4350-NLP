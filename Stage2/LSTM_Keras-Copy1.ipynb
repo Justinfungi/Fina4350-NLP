{
 "cells": [
  {
   "cell_type": "code",
   "execution_count": 13,
   "id": "f706510c",
   "metadata": {
    "ExecuteTime": {
     "end_time": "2023-03-27T18:14:53.564286Z",
     "start_time": "2023-03-27T18:14:45.244916Z"
    },
    "scrolled": true
   },
   "outputs": [
    {
     "name": "stdout",
     "output_type": "stream",
     "text": [
      "Requirement already satisfied: pandas-ta in /home/fish/anaconda3/lib/python3.9/site-packages (0.3.14b0)\n",
      "Requirement already satisfied: pandas in /home/fish/anaconda3/lib/python3.9/site-packages (from pandas-ta) (1.4.2)\n",
      "Requirement already satisfied: python-dateutil>=2.8.1 in /home/fish/anaconda3/lib/python3.9/site-packages (from pandas->pandas-ta) (2.8.2)\n",
      "Requirement already satisfied: pytz>=2020.1 in /home/fish/anaconda3/lib/python3.9/site-packages (from pandas->pandas-ta) (2021.3)\n",
      "Requirement already satisfied: numpy>=1.18.5 in /home/fish/anaconda3/lib/python3.9/site-packages (from pandas->pandas-ta) (1.21.5)\n",
      "Requirement already satisfied: six>=1.5 in /home/fish/anaconda3/lib/python3.9/site-packages (from python-dateutil>=2.8.1->pandas->pandas-ta) (1.16.0)\n",
      "Collecting yfinance\n",
      "  Downloading yfinance-0.2.14-py2.py3-none-any.whl (59 kB)\n",
      "\u001b[K     |████████████████████████████████| 59 kB 5.4 MB/s  eta 0:00:01\n",
      "\u001b[?25hRequirement already satisfied: numpy>=1.16.5 in /home/fish/anaconda3/lib/python3.9/site-packages (from yfinance) (1.21.5)\n",
      "Requirement already satisfied: requests>=2.26 in /home/fish/anaconda3/lib/python3.9/site-packages (from yfinance) (2.27.1)\n",
      "Collecting pytz>=2022.5\n",
      "  Downloading pytz-2023.2-py2.py3-none-any.whl (502 kB)\n",
      "\u001b[K     |████████████████████████████████| 502 kB 18.3 MB/s eta 0:00:01\n",
      "\u001b[?25hCollecting frozendict>=2.3.4\n",
      "  Downloading frozendict-2.3.6-cp39-cp39-manylinux_2_17_x86_64.manylinux2014_x86_64.whl (114 kB)\n",
      "\u001b[K     |████████████████████████████████| 114 kB 33.4 MB/s eta 0:00:01\n",
      "\u001b[?25hRequirement already satisfied: cryptography>=3.3.2 in /home/fish/anaconda3/lib/python3.9/site-packages (from yfinance) (3.4.8)\n",
      "Collecting html5lib>=1.1\n",
      "  Downloading html5lib-1.1-py2.py3-none-any.whl (112 kB)\n",
      "\u001b[K     |████████████████████████████████| 112 kB 40.2 MB/s eta 0:00:01\n",
      "\u001b[?25hCollecting lxml>=4.9.1\n",
      "  Using cached lxml-4.9.2-cp39-cp39-manylinux_2_17_x86_64.manylinux2014_x86_64.manylinux_2_24_x86_64.whl (7.1 MB)\n",
      "Requirement already satisfied: pandas>=1.3.0 in /home/fish/anaconda3/lib/python3.9/site-packages (from yfinance) (1.4.2)\n",
      "Requirement already satisfied: beautifulsoup4>=4.11.1 in /home/fish/anaconda3/lib/python3.9/site-packages (from yfinance) (4.11.1)\n",
      "Collecting multitasking>=0.0.7\n",
      "  Downloading multitasking-0.0.11-py3-none-any.whl (8.5 kB)\n",
      "Requirement already satisfied: appdirs>=1.4.4 in /home/fish/anaconda3/lib/python3.9/site-packages (from yfinance) (1.4.4)\n",
      "Requirement already satisfied: soupsieve>1.2 in /home/fish/anaconda3/lib/python3.9/site-packages (from beautifulsoup4>=4.11.1->yfinance) (2.3.1)\n",
      "Requirement already satisfied: cffi>=1.12 in /home/fish/anaconda3/lib/python3.9/site-packages (from cryptography>=3.3.2->yfinance) (1.15.0)\n",
      "Requirement already satisfied: pycparser in /home/fish/anaconda3/lib/python3.9/site-packages (from cffi>=1.12->cryptography>=3.3.2->yfinance) (2.21)\n",
      "Requirement already satisfied: webencodings in /home/fish/anaconda3/lib/python3.9/site-packages (from html5lib>=1.1->yfinance) (0.5.1)\n",
      "Requirement already satisfied: six>=1.9 in /home/fish/anaconda3/lib/python3.9/site-packages (from html5lib>=1.1->yfinance) (1.16.0)\n",
      "Requirement already satisfied: python-dateutil>=2.8.1 in /home/fish/anaconda3/lib/python3.9/site-packages (from pandas>=1.3.0->yfinance) (2.8.2)\n",
      "Requirement already satisfied: certifi>=2017.4.17 in /home/fish/anaconda3/lib/python3.9/site-packages (from requests>=2.26->yfinance) (2022.6.15)\n",
      "Requirement already satisfied: charset-normalizer~=2.0.0 in /home/fish/anaconda3/lib/python3.9/site-packages (from requests>=2.26->yfinance) (2.0.4)\n",
      "Requirement already satisfied: urllib3<1.27,>=1.21.1 in /home/fish/anaconda3/lib/python3.9/site-packages (from requests>=2.26->yfinance) (1.26.9)\n",
      "Requirement already satisfied: idna<4,>=2.5 in /home/fish/anaconda3/lib/python3.9/site-packages (from requests>=2.26->yfinance) (3.3)\n",
      "Installing collected packages: pytz, multitasking, lxml, html5lib, frozendict, yfinance\n",
      "  Attempting uninstall: pytz\n",
      "    Found existing installation: pytz 2021.3\n",
      "    Uninstalling pytz-2021.3:\n",
      "      Successfully uninstalled pytz-2021.3\n",
      "  Attempting uninstall: lxml\n",
      "    Found existing installation: lxml 4.8.0\n",
      "    Uninstalling lxml-4.8.0:\n",
      "      Successfully uninstalled lxml-4.8.0\n",
      "\u001b[31mERROR: pip's dependency resolver does not currently take into account all the packages that are installed. This behaviour is the source of the following dependency conflicts.\n",
      "spyder 5.1.5 requires pyqt5<5.13, which is not installed.\n",
      "spyder 5.1.5 requires pyqtwebengine<5.13, which is not installed.\n",
      "conda-repo-cli 1.0.4 requires pathlib, which is not installed.\n",
      "nbconvert 7.0.0 requires jinja2>=3.0, but you have jinja2 2.11.3 which is incompatible.\u001b[0m\n",
      "Successfully installed frozendict-2.3.6 html5lib-1.1 lxml-4.9.2 multitasking-0.0.11 pytz-2023.2 yfinance-0.2.14\n"
     ]
    }
   ],
   "source": [
    "!pip install pandas-ta\n",
    "!pip install yfinance"
   ]
  },
  {
   "cell_type": "code",
   "execution_count": 44,
   "id": "735dc501",
   "metadata": {
    "ExecuteTime": {
     "end_time": "2023-03-27T18:33:21.818262Z",
     "start_time": "2023-03-27T18:33:21.379966Z"
    }
   },
   "outputs": [],
   "source": [
    "import pandas as pd\n",
    "import numpy as np\n",
    "import pandas_ta as ta\n",
    "import yfinance as yf\n",
    "import matplotlib.pyplot as plt\n",
    "from sklearn.preprocessing import MinMaxScaler\n",
    "\n",
    "from keras.models import Sequential\n",
    "from keras.layers import LSTM\n",
    "from keras.layers import Dropout\n",
    "from keras.layers import Dense\n",
    "from keras.layers import TimeDistributed\n",
    "\n",
    "import tensorflow as tf\n",
    "import keras\n",
    "from keras import optimizers\n",
    "from keras.callbacks import History\n",
    "from keras.models import Model\n",
    "from keras.layers import Dense, Dropout, LSTM, Input, Activation, concatenate\n",
    "import numpy as np\n",
    "#tf.random.set_seed(20)\n",
    "np.random.seed(10)"
   ]
  },
  {
   "cell_type": "markdown",
   "id": "d0e204e4",
   "metadata": {
    "ExecuteTime": {
     "end_time": "2023-03-27T13:10:15.500273Z",
     "start_time": "2023-03-27T13:10:15.494561Z"
    }
   },
   "source": [
    "#Alpha vantage\n",
    "\n",
    "2OQT6WT9WH45WTK5"
   ]
  },
  {
   "cell_type": "code",
   "execution_count": 71,
   "id": "2d2e278a",
   "metadata": {
    "ExecuteTime": {
     "end_time": "2023-03-28T08:04:19.801571Z",
     "start_time": "2023-03-28T08:04:19.563106Z"
    }
   },
   "outputs": [
    {
     "data": {
      "text/html": [
       "<div>\n",
       "<style scoped>\n",
       "    .dataframe tbody tr th:only-of-type {\n",
       "        vertical-align: middle;\n",
       "    }\n",
       "\n",
       "    .dataframe tbody tr th {\n",
       "        vertical-align: top;\n",
       "    }\n",
       "\n",
       "    .dataframe thead th {\n",
       "        text-align: right;\n",
       "    }\n",
       "</style>\n",
       "<table border=\"1\" class=\"dataframe\">\n",
       "  <thead>\n",
       "    <tr style=\"text-align: right;\">\n",
       "      <th></th>\n",
       "      <th>Open</th>\n",
       "      <th>High</th>\n",
       "      <th>Low</th>\n",
       "      <th>Close</th>\n",
       "      <th>Volume</th>\n",
       "      <th>Dividends</th>\n",
       "      <th>Stock Splits</th>\n",
       "    </tr>\n",
       "    <tr>\n",
       "      <th>Date</th>\n",
       "      <th></th>\n",
       "      <th></th>\n",
       "      <th></th>\n",
       "      <th></th>\n",
       "      <th></th>\n",
       "      <th></th>\n",
       "      <th></th>\n",
       "    </tr>\n",
       "  </thead>\n",
       "  <tbody>\n",
       "    <tr>\n",
       "      <th>2019-03-28 00:00:00-04:00</th>\n",
       "      <td>18.477333</td>\n",
       "      <td>18.688667</td>\n",
       "      <td>18.340000</td>\n",
       "      <td>18.574667</td>\n",
       "      <td>101611500</td>\n",
       "      <td>0.0</td>\n",
       "      <td>0.0</td>\n",
       "    </tr>\n",
       "    <tr>\n",
       "      <th>2019-03-29 00:00:00-04:00</th>\n",
       "      <td>18.580000</td>\n",
       "      <td>18.677334</td>\n",
       "      <td>18.299999</td>\n",
       "      <td>18.657333</td>\n",
       "      <td>89869500</td>\n",
       "      <td>0.0</td>\n",
       "      <td>0.0</td>\n",
       "    </tr>\n",
       "    <tr>\n",
       "      <th>2019-04-01 00:00:00-04:00</th>\n",
       "      <td>18.841333</td>\n",
       "      <td>19.280001</td>\n",
       "      <td>18.752001</td>\n",
       "      <td>19.278667</td>\n",
       "      <td>121656000</td>\n",
       "      <td>0.0</td>\n",
       "      <td>0.0</td>\n",
       "    </tr>\n",
       "    <tr>\n",
       "      <th>2019-04-02 00:00:00-04:00</th>\n",
       "      <td>19.219999</td>\n",
       "      <td>19.296000</td>\n",
       "      <td>18.925333</td>\n",
       "      <td>19.058666</td>\n",
       "      <td>82183500</td>\n",
       "      <td>0.0</td>\n",
       "      <td>0.0</td>\n",
       "    </tr>\n",
       "    <tr>\n",
       "      <th>2019-04-03 00:00:00-04:00</th>\n",
       "      <td>19.154667</td>\n",
       "      <td>19.744667</td>\n",
       "      <td>19.144667</td>\n",
       "      <td>19.454000</td>\n",
       "      <td>118791000</td>\n",
       "      <td>0.0</td>\n",
       "      <td>0.0</td>\n",
       "    </tr>\n",
       "  </tbody>\n",
       "</table>\n",
       "</div>"
      ],
      "text/plain": [
       "                                Open       High        Low      Close  \\\n",
       "Date                                                                    \n",
       "2019-03-28 00:00:00-04:00  18.477333  18.688667  18.340000  18.574667   \n",
       "2019-03-29 00:00:00-04:00  18.580000  18.677334  18.299999  18.657333   \n",
       "2019-04-01 00:00:00-04:00  18.841333  19.280001  18.752001  19.278667   \n",
       "2019-04-02 00:00:00-04:00  19.219999  19.296000  18.925333  19.058666   \n",
       "2019-04-03 00:00:00-04:00  19.154667  19.744667  19.144667  19.454000   \n",
       "\n",
       "                              Volume  Dividends  Stock Splits  \n",
       "Date                                                           \n",
       "2019-03-28 00:00:00-04:00  101611500        0.0           0.0  \n",
       "2019-03-29 00:00:00-04:00   89869500        0.0           0.0  \n",
       "2019-04-01 00:00:00-04:00  121656000        0.0           0.0  \n",
       "2019-04-02 00:00:00-04:00   82183500        0.0           0.0  \n",
       "2019-04-03 00:00:00-04:00  118791000        0.0           0.0  "
      ]
     },
     "execution_count": 71,
     "metadata": {},
     "output_type": "execute_result"
    }
   ],
   "source": [
    "#df = yf.download(tickers = 'TSLA', start = '2022-03-11',end = '2023-03-11')\n",
    "tickers = yf.Tickers('TSLA')\n",
    "\n",
    "# access each ticker using (example)\n",
    "\n",
    "data = tickers.tickers['TSLA'].history(period=\"4y\")\n",
    "data.head()"
   ]
  },
  {
   "cell_type": "code",
   "execution_count": 67,
   "id": "12f23fe5",
   "metadata": {
    "ExecuteTime": {
     "end_time": "2023-03-28T02:25:24.237276Z",
     "start_time": "2023-03-28T02:25:24.204799Z"
    }
   },
   "outputs": [],
   "source": [
    "data['RSI']=ta.rsi(data.Close, length=15)\n",
    "data['EMAF']=ta.ema(data.Close, length=20)\n",
    "data['EMAM']=ta.ema(data.Close, length=100)\n",
    "data['EMAS']=ta.ema(data.Close, length=150)\n",
    "\n",
    "data['TargetNextClose'] = data['Close'].shift(-1)\n",
    "data['Target'] = data['Close']-data.Open\n",
    "data['Target'] = data['Target'].shift(-1)\n",
    "\n",
    "data['TargetClass'] = [1 if data.Target[i]>0 else 0 for i in range(len(data))]\n",
    "\n",
    "data['TargetNextClose'] = data['Close'].shift(-1)\n",
    "\n",
    "data.iloc[:, 0:-1].dropna(inplace=True)\n",
    "data.reset_index(inplace = True)\n",
    "data.drop(['Volume', 'Date'], axis=1, inplace=True)"
   ]
  },
  {
   "cell_type": "code",
   "execution_count": 69,
   "id": "a78c7774",
   "metadata": {
    "ExecuteTime": {
     "end_time": "2023-03-28T02:26:08.775166Z",
     "start_time": "2023-03-28T02:26:08.772285Z"
    },
    "scrolled": true
   },
   "outputs": [],
   "source": [
    "data_set = data.iloc[:, 0:11]#.values\n",
    "pd.set_option('display.max_columns', None)\n",
    "\n",
    "original = data_set.copy()\n",
    "data_set.tail(20)\n",
    "\n",
    "#print(data_set.shape)\n",
    "#print(data.shape)\n",
    "#print(type(data_set))"
   ]
  },
  {
   "cell_type": "code",
   "execution_count": 51,
   "id": "3f4379ed",
   "metadata": {
    "ExecuteTime": {
     "end_time": "2023-03-28T02:03:37.514860Z",
     "start_time": "2023-03-28T02:03:37.504742Z"
    }
   },
   "outputs": [
    {
     "name": "stdout",
     "output_type": "stream",
     "text": [
      "[[1.19302515e-03 1.32520675e-03 9.50530507e-04 ... 0.00000000e+00\n",
      "  0.00000000e+00 2.91286827e-04]\n",
      " [0.00000000e+00 3.91459352e-04 1.22931448e-04 ... 3.03824997e-04\n",
      "  2.30039033e-04 2.75864606e-04]\n",
      " [1.70663763e-05 4.27046566e-04 6.47538691e-04 ... 6.01243743e-04\n",
      "  4.56760157e-04 0.00000000e+00]\n",
      " ...\n",
      " [4.56814678e-01 4.56436824e-01 4.42365832e-01 ... 5.63619252e-01\n",
      "  6.26771892e-01 4.40350296e-01]\n",
      " [4.46471682e-01 4.53005169e-01 4.36392563e-01 ... 5.63888159e-01\n",
      "  6.26434031e-01 4.35698335e-01]\n",
      " [4.37229568e-01 4.35338590e-01 4.32496958e-01 ... 5.64034127e-01\n",
      "  6.26018891e-01 4.39296526e-01]]\n"
     ]
    }
   ],
   "source": [
    "sc = MinMaxScaler(feature_range=(0,1))\n",
    "data_set_scaled = sc.fit_transform(data_set)\n",
    "print(data_set_scaled)"
   ]
  },
  {
   "cell_type": "code",
   "execution_count": 52,
   "id": "9fe6b924",
   "metadata": {
    "ExecuteTime": {
     "end_time": "2023-03-28T02:03:40.647099Z",
     "start_time": "2023-03-28T02:03:40.530168Z"
    }
   },
   "outputs": [
    {
     "data": {
      "text/plain": [
       "[<matplotlib.lines.Line2D at 0x7fbfb6c32d00>]"
      ]
     },
     "execution_count": 52,
     "metadata": {},
     "output_type": "execute_result"
    },
    {
     "data": {
      "image/png": "[encoded data removed]",
      "text/plain": [
       "<Figure size 432x288 with 1 Axes>"
      ]
     },
     "metadata": {
      "needs_background": "light"
     },
     "output_type": "display_data"
    }
   ],
   "source": [
    "plt.plot(df[\"Close\"])"
   ]
  },
  {
   "cell_type": "code",
   "execution_count": 60,
   "id": "8c581ab4",
   "metadata": {
    "ExecuteTime": {
     "end_time": "2023-03-27T13:48:36.494293Z",
     "start_time": "2023-03-27T13:48:36.486006Z"
    }
   },
   "outputs": [
    {
     "data": {
      "text/plain": [
       "array([[158.93]])"
      ]
     },
     "execution_count": 60,
     "metadata": {},
     "output_type": "execute_result"
    }
   ],
   "source": [
    "scaler.inverse_transform(df1[1].reshape(-1, 1))"
   ]
  },
  {
   "cell_type": "code",
   "execution_count": 54,
   "id": "db4807cf",
   "metadata": {
    "ExecuteTime": {
     "end_time": "2023-03-28T02:10:07.840198Z",
     "start_time": "2023-03-28T02:10:07.824878Z"
    }
   },
   "outputs": [
    {
     "name": "stdout",
     "output_type": "stream",
     "text": [
      "857\n",
      "(827, 30, 8)\n",
      "(827, 1)\n"
     ]
    }
   ],
   "source": [
    "# multiple feature from data provided to the model\n",
    "X = []\n",
    "backcandles = 30\n",
    "print(data_set_scaled.shape[0])\n",
    "for j in range(8):\n",
    "    X.append([])\n",
    "    for i in range(backcandles, data_set_scaled.shape[0]):#backcandles+2\n",
    "        X[j].append(data_set_scaled[i-backcandles:i, j])\n",
    "\n",
    "#move axis from 0 to position 2\n",
    "X=np.moveaxis(X, [0], [2])\n",
    "\n",
    "X, yi =np.array(X), np.array(data_set_scaled[backcandles:,-1])\n",
    "y=np.reshape(yi,(len(yi),1))\n",
    "#y=sc.fit_transform(yi)\n",
    "#X_train = np.reshape(X_train, (X_train.shape[0], X_train.shape[1], 1))\n",
    "#print(X)\n",
    "print(X.shape)\n",
    "#print(y)\n",
    "print(y.shape)"
   ]
  },
  {
   "cell_type": "code",
   "execution_count": 56,
   "id": "6eb2700a",
   "metadata": {
    "ExecuteTime": {
     "end_time": "2023-03-28T02:12:20.280594Z",
     "start_time": "2023-03-28T02:12:20.275449Z"
    }
   },
   "outputs": [
    {
     "name": "stdout",
     "output_type": "stream",
     "text": [
      "661\n",
      "(661, 30, 8)\n",
      "(166, 30, 8)\n",
      "(661, 1)\n",
      "(166, 1)\n"
     ]
    }
   ],
   "source": [
    "splitlimit = int(len(X)*0.8)\n",
    "print(splitlimit)\n",
    "X_train, X_test = X[:splitlimit], X[splitlimit:]\n",
    "y_train, y_test = y[:splitlimit], y[splitlimit:]\n",
    "print(X_train.shape)\n",
    "print(X_test.shape)\n",
    "print(y_train.shape)\n",
    "print(y_test.shape)"
   ]
  },
  {
   "cell_type": "code",
   "execution_count": 60,
   "id": "e6561dcd",
   "metadata": {
    "ExecuteTime": {
     "end_time": "2023-03-28T02:15:54.622755Z",
     "start_time": "2023-03-28T02:13:58.974382Z"
    },
    "scrolled": true
   },
   "outputs": [
    {
     "name": "stdout",
     "output_type": "stream",
     "text": [
      "Epoch 1/200\n",
      "40/40 [==============================] - 2s 18ms/step - loss: 0.0206 - val_loss: 0.0036\n",
      "Epoch 2/200\n",
      "40/40 [==============================] - 0s 10ms/step - loss: 0.0022 - val_loss: 0.0046\n",
      "Epoch 3/200\n",
      "40/40 [==============================] - 0s 10ms/step - loss: 0.0021 - val_loss: 0.0024\n",
      "Epoch 4/200\n",
      "40/40 [==============================] - 0s 10ms/step - loss: 0.0019 - val_loss: 0.0023\n",
      "Epoch 5/200\n",
      "40/40 [==============================] - 0s 10ms/step - loss: 0.0016 - val_loss: 0.0022\n",
      "Epoch 6/200\n",
      "40/40 [==============================] - 0s 10ms/step - loss: 0.0014 - val_loss: 0.0027\n",
      "Epoch 7/200\n",
      "40/40 [==============================] - 0s 10ms/step - loss: 0.0014 - val_loss: 0.0020\n",
      "Epoch 8/200\n",
      "40/40 [==============================] - 0s 10ms/step - loss: 0.0013 - val_loss: 0.0021\n",
      "Epoch 9/200\n",
      "40/40 [==============================] - 0s 10ms/step - loss: 0.0012 - val_loss: 0.0019\n",
      "Epoch 10/200\n",
      "40/40 [==============================] - 0s 10ms/step - loss: 0.0014 - val_loss: 0.0019\n",
      "Epoch 11/200\n",
      "40/40 [==============================] - 0s 10ms/step - loss: 0.0012 - val_loss: 0.0019\n",
      "Epoch 12/200\n",
      "40/40 [==============================] - 0s 11ms/step - loss: 0.0012 - val_loss: 0.0035\n",
      "Epoch 13/200\n",
      "40/40 [==============================] - 0s 11ms/step - loss: 0.0012 - val_loss: 0.0031\n",
      "Epoch 14/200\n",
      "40/40 [==============================] - 0s 10ms/step - loss: 0.0011 - val_loss: 0.0020\n",
      "Epoch 15/200\n",
      "40/40 [==============================] - 0s 11ms/step - loss: 0.0011 - val_loss: 0.0027\n",
      "Epoch 16/200\n",
      "40/40 [==============================] - 0s 10ms/step - loss: 0.0011 - val_loss: 0.0024\n",
      "Epoch 17/200\n",
      "40/40 [==============================] - 0s 10ms/step - loss: 0.0011 - val_loss: 0.0024\n",
      "Epoch 18/200\n",
      "40/40 [==============================] - 0s 10ms/step - loss: 0.0011 - val_loss: 0.0021\n",
      "Epoch 19/200\n",
      "40/40 [==============================] - 0s 10ms/step - loss: 0.0010 - val_loss: 0.0024\n",
      "Epoch 20/200\n",
      "40/40 [==============================] - 0s 11ms/step - loss: 0.0011 - val_loss: 0.0019\n",
      "Epoch 21/200\n",
      "40/40 [==============================] - 0s 11ms/step - loss: 0.0011 - val_loss: 0.0022\n",
      "Epoch 22/200\n",
      "40/40 [==============================] - 0s 10ms/step - loss: 0.0011 - val_loss: 0.0019\n",
      "Epoch 23/200\n",
      "40/40 [==============================] - 0s 11ms/step - loss: 0.0010 - val_loss: 0.0020\n",
      "Epoch 24/200\n",
      "40/40 [==============================] - 0s 10ms/step - loss: 0.0010 - val_loss: 0.0019\n",
      "Epoch 25/200\n",
      "40/40 [==============================] - 0s 10ms/step - loss: 0.0011 - val_loss: 0.0027\n",
      "Epoch 26/200\n",
      "40/40 [==============================] - 0s 10ms/step - loss: 0.0012 - val_loss: 0.0020\n",
      "Epoch 27/200\n",
      "40/40 [==============================] - 0s 10ms/step - loss: 0.0012 - val_loss: 0.0025\n",
      "Epoch 28/200\n",
      "40/40 [==============================] - 0s 10ms/step - loss: 0.0012 - val_loss: 0.0020\n",
      "Epoch 29/200\n",
      "40/40 [==============================] - 0s 10ms/step - loss: 0.0011 - val_loss: 0.0019\n",
      "Epoch 30/200\n",
      "40/40 [==============================] - 0s 10ms/step - loss: 0.0010 - val_loss: 0.0031\n",
      "Epoch 31/200\n",
      "40/40 [==============================] - 0s 11ms/step - loss: 0.0011 - val_loss: 0.0018\n",
      "Epoch 32/200\n",
      "40/40 [==============================] - 0s 11ms/step - loss: 0.0010 - val_loss: 0.0023\n",
      "Epoch 33/200\n",
      "40/40 [==============================] - 0s 12ms/step - loss: 0.0013 - val_loss: 0.0020\n",
      "Epoch 34/200\n",
      "40/40 [==============================] - 0s 11ms/step - loss: 0.0011 - val_loss: 0.0022\n",
      "Epoch 35/200\n",
      "40/40 [==============================] - 0s 10ms/step - loss: 0.0010 - val_loss: 0.0020\n",
      "Epoch 36/200\n",
      "40/40 [==============================] - 0s 10ms/step - loss: 9.4454e-04 - val_loss: 0.0025\n",
      "Epoch 37/200\n",
      "40/40 [==============================] - 0s 10ms/step - loss: 0.0011 - val_loss: 0.0020\n",
      "Epoch 38/200\n",
      "40/40 [==============================] - 0s 10ms/step - loss: 0.0010 - val_loss: 0.0019\n",
      "Epoch 39/200\n",
      "40/40 [==============================] - 1s 13ms/step - loss: 9.9096e-04 - val_loss: 0.0022\n",
      "Epoch 40/200\n",
      "40/40 [==============================] - 1s 19ms/step - loss: 9.6952e-04 - val_loss: 0.0021\n",
      "Epoch 41/200\n",
      "40/40 [==============================] - 1s 20ms/step - loss: 0.0011 - val_loss: 0.0019\n",
      "Epoch 42/200\n",
      "40/40 [==============================] - 1s 17ms/step - loss: 0.0010 - val_loss: 0.0018\n",
      "Epoch 43/200\n",
      "40/40 [==============================] - 1s 16ms/step - loss: 9.9001e-04 - val_loss: 0.0018\n",
      "Epoch 44/200\n",
      "40/40 [==============================] - 1s 15ms/step - loss: 9.6811e-04 - val_loss: 0.0018\n",
      "Epoch 45/200\n",
      "40/40 [==============================] - 1s 15ms/step - loss: 9.3921e-04 - val_loss: 0.0019\n",
      "Epoch 46/200\n",
      "40/40 [==============================] - 1s 16ms/step - loss: 9.1201e-04 - val_loss: 0.0017\n",
      "Epoch 47/200\n",
      "40/40 [==============================] - 1s 17ms/step - loss: 0.0011 - val_loss: 0.0019\n",
      "Epoch 48/200\n",
      "40/40 [==============================] - 1s 16ms/step - loss: 0.0010 - val_loss: 0.0018\n",
      "Epoch 49/200\n",
      "40/40 [==============================] - 1s 15ms/step - loss: 9.8463e-04 - val_loss: 0.0020\n",
      "Epoch 50/200\n",
      "40/40 [==============================] - 1s 16ms/step - loss: 9.7240e-04 - val_loss: 0.0026\n",
      "Epoch 51/200\n",
      "40/40 [==============================] - 1s 15ms/step - loss: 9.9152e-04 - val_loss: 0.0018\n",
      "Epoch 52/200\n",
      "40/40 [==============================] - 1s 16ms/step - loss: 9.5500e-04 - val_loss: 0.0023\n",
      "Epoch 53/200\n",
      "40/40 [==============================] - 1s 16ms/step - loss: 0.0010 - val_loss: 0.0020\n",
      "Epoch 54/200\n",
      "40/40 [==============================] - 1s 16ms/step - loss: 9.6051e-04 - val_loss: 0.0026\n",
      "Epoch 55/200\n",
      "40/40 [==============================] - 1s 15ms/step - loss: 9.3110e-04 - val_loss: 0.0018\n",
      "Epoch 56/200\n",
      "40/40 [==============================] - 1s 15ms/step - loss: 9.7366e-04 - val_loss: 0.0022\n",
      "Epoch 57/200\n",
      "40/40 [==============================] - 1s 15ms/step - loss: 0.0011 - val_loss: 0.0019\n",
      "Epoch 58/200\n",
      "40/40 [==============================] - 1s 17ms/step - loss: 0.0010 - val_loss: 0.0023\n",
      "Epoch 59/200\n",
      "40/40 [==============================] - 1s 16ms/step - loss: 0.0011 - val_loss: 0.0018\n",
      "Epoch 60/200\n",
      "40/40 [==============================] - 1s 16ms/step - loss: 0.0010 - val_loss: 0.0021\n",
      "Epoch 61/200\n",
      "40/40 [==============================] - 1s 16ms/step - loss: 9.0145e-04 - val_loss: 0.0018\n",
      "Epoch 62/200\n",
      "40/40 [==============================] - 1s 15ms/step - loss: 9.7401e-04 - val_loss: 0.0024\n",
      "Epoch 63/200\n",
      "40/40 [==============================] - 1s 15ms/step - loss: 9.9005e-04 - val_loss: 0.0023\n",
      "Epoch 64/200\n",
      "40/40 [==============================] - 1s 15ms/step - loss: 0.0010 - val_loss: 0.0024\n",
      "Epoch 65/200\n",
      "40/40 [==============================] - 1s 16ms/step - loss: 9.6132e-04 - val_loss: 0.0018\n",
      "Epoch 66/200\n",
      "40/40 [==============================] - 1s 17ms/step - loss: 9.0094e-04 - val_loss: 0.0018\n",
      "Epoch 67/200\n",
      "40/40 [==============================] - 1s 16ms/step - loss: 8.8441e-04 - val_loss: 0.0019\n",
      "Epoch 68/200\n",
      "40/40 [==============================] - 1s 15ms/step - loss: 9.5827e-04 - val_loss: 0.0026\n",
      "Epoch 69/200\n",
      "40/40 [==============================] - 1s 14ms/step - loss: 9.7541e-04 - val_loss: 0.0027\n",
      "Epoch 70/200\n",
      "40/40 [==============================] - 1s 14ms/step - loss: 0.0012 - val_loss: 0.0037\n",
      "Epoch 71/200\n",
      "40/40 [==============================] - 1s 15ms/step - loss: 9.2755e-04 - val_loss: 0.0017\n",
      "Epoch 72/200\n",
      "40/40 [==============================] - 1s 16ms/step - loss: 9.6866e-04 - val_loss: 0.0021\n",
      "Epoch 73/200\n",
      "40/40 [==============================] - 1s 15ms/step - loss: 0.0011 - val_loss: 0.0021\n",
      "Epoch 74/200\n",
      "40/40 [==============================] - 1s 16ms/step - loss: 0.0010 - val_loss: 0.0020\n",
      "Epoch 75/200\n",
      "40/40 [==============================] - 1s 15ms/step - loss: 8.7737e-04 - val_loss: 0.0018\n",
      "Epoch 76/200\n",
      "40/40 [==============================] - 1s 15ms/step - loss: 8.7653e-04 - val_loss: 0.0018\n",
      "Epoch 77/200\n",
      "40/40 [==============================] - 1s 14ms/step - loss: 8.9296e-04 - val_loss: 0.0022\n",
      "Epoch 78/200\n",
      "40/40 [==============================] - 1s 15ms/step - loss: 9.0039e-04 - val_loss: 0.0018\n",
      "Epoch 79/200\n",
      "40/40 [==============================] - 1s 15ms/step - loss: 8.9855e-04 - val_loss: 0.0020\n",
      "Epoch 80/200\n",
      "40/40 [==============================] - 1s 15ms/step - loss: 9.7590e-04 - val_loss: 0.0024\n",
      "Epoch 81/200\n"
     ]
    },
    {
     "name": "stdout",
     "output_type": "stream",
     "text": [
      "40/40 [==============================] - 1s 14ms/step - loss: 9.3460e-04 - val_loss: 0.0018\n",
      "Epoch 82/200\n",
      "40/40 [==============================] - 1s 14ms/step - loss: 8.9441e-04 - val_loss: 0.0018\n",
      "Epoch 83/200\n",
      "40/40 [==============================] - 1s 15ms/step - loss: 0.0010 - val_loss: 0.0019\n",
      "Epoch 84/200\n",
      "40/40 [==============================] - 1s 14ms/step - loss: 0.0010 - val_loss: 0.0019\n",
      "Epoch 85/200\n",
      "40/40 [==============================] - 1s 15ms/step - loss: 0.0010 - val_loss: 0.0019\n",
      "Epoch 86/200\n",
      "40/40 [==============================] - 1s 15ms/step - loss: 8.3239e-04 - val_loss: 0.0020\n",
      "Epoch 87/200\n",
      "40/40 [==============================] - 1s 17ms/step - loss: 8.8079e-04 - val_loss: 0.0019\n",
      "Epoch 88/200\n",
      "40/40 [==============================] - 1s 14ms/step - loss: 8.5116e-04 - val_loss: 0.0019\n",
      "Epoch 89/200\n",
      "40/40 [==============================] - 1s 14ms/step - loss: 8.2623e-04 - val_loss: 0.0019\n",
      "Epoch 90/200\n",
      "40/40 [==============================] - 1s 19ms/step - loss: 8.5083e-04 - val_loss: 0.0019\n",
      "Epoch 91/200\n",
      "40/40 [==============================] - 1s 17ms/step - loss: 8.6217e-04 - val_loss: 0.0019\n",
      "Epoch 92/200\n",
      "40/40 [==============================] - 1s 16ms/step - loss: 9.2691e-04 - val_loss: 0.0020\n",
      "Epoch 93/200\n",
      "40/40 [==============================] - 1s 15ms/step - loss: 8.4212e-04 - val_loss: 0.0022\n",
      "Epoch 94/200\n",
      "40/40 [==============================] - 1s 14ms/step - loss: 9.0653e-04 - val_loss: 0.0019\n",
      "Epoch 95/200\n",
      "40/40 [==============================] - 1s 14ms/step - loss: 8.1248e-04 - val_loss: 0.0021\n",
      "Epoch 96/200\n",
      "40/40 [==============================] - 1s 14ms/step - loss: 8.3112e-04 - val_loss: 0.0027\n",
      "Epoch 97/200\n",
      "40/40 [==============================] - 1s 14ms/step - loss: 8.2309e-04 - val_loss: 0.0019\n",
      "Epoch 98/200\n",
      "40/40 [==============================] - 1s 15ms/step - loss: 8.2859e-04 - val_loss: 0.0024\n",
      "Epoch 99/200\n",
      "40/40 [==============================] - 1s 16ms/step - loss: 8.3116e-04 - val_loss: 0.0020\n",
      "Epoch 100/200\n",
      "40/40 [==============================] - 1s 16ms/step - loss: 9.4761e-04 - val_loss: 0.0019\n",
      "Epoch 101/200\n",
      "40/40 [==============================] - 1s 14ms/step - loss: 8.3496e-04 - val_loss: 0.0019\n",
      "Epoch 102/200\n",
      "40/40 [==============================] - 1s 14ms/step - loss: 8.7544e-04 - val_loss: 0.0024\n",
      "Epoch 103/200\n",
      "40/40 [==============================] - 1s 14ms/step - loss: 9.6749e-04 - val_loss: 0.0022\n",
      "Epoch 104/200\n",
      "40/40 [==============================] - 1s 15ms/step - loss: 8.6837e-04 - val_loss: 0.0020\n",
      "Epoch 105/200\n",
      "40/40 [==============================] - 1s 15ms/step - loss: 8.7133e-04 - val_loss: 0.0021\n",
      "Epoch 106/200\n",
      "40/40 [==============================] - 1s 15ms/step - loss: 8.4419e-04 - val_loss: 0.0020\n",
      "Epoch 107/200\n",
      "40/40 [==============================] - 1s 15ms/step - loss: 9.1150e-04 - val_loss: 0.0018\n",
      "Epoch 108/200\n",
      "40/40 [==============================] - 1s 15ms/step - loss: 9.7915e-04 - val_loss: 0.0019\n",
      "Epoch 109/200\n",
      "40/40 [==============================] - 1s 14ms/step - loss: 9.0740e-04 - val_loss: 0.0019\n",
      "Epoch 110/200\n",
      "40/40 [==============================] - 1s 14ms/step - loss: 8.1465e-04 - val_loss: 0.0021\n",
      "Epoch 111/200\n",
      "40/40 [==============================] - 1s 14ms/step - loss: 8.0904e-04 - val_loss: 0.0023\n",
      "Epoch 112/200\n",
      "40/40 [==============================] - 1s 15ms/step - loss: 7.9669e-04 - val_loss: 0.0025\n",
      "Epoch 113/200\n",
      "40/40 [==============================] - 1s 15ms/step - loss: 8.4267e-04 - val_loss: 0.0020\n",
      "Epoch 114/200\n",
      "40/40 [==============================] - 1s 15ms/step - loss: 8.4769e-04 - val_loss: 0.0020\n",
      "Epoch 115/200\n",
      "40/40 [==============================] - 1s 15ms/step - loss: 8.6126e-04 - val_loss: 0.0021\n",
      "Epoch 116/200\n",
      "40/40 [==============================] - 1s 19ms/step - loss: 8.5347e-04 - val_loss: 0.0022\n",
      "Epoch 117/200\n",
      "40/40 [==============================] - 1s 15ms/step - loss: 8.3912e-04 - val_loss: 0.0026\n",
      "Epoch 118/200\n",
      "40/40 [==============================] - 1s 15ms/step - loss: 9.0137e-04 - val_loss: 0.0020\n",
      "Epoch 119/200\n",
      "40/40 [==============================] - 1s 15ms/step - loss: 7.9754e-04 - val_loss: 0.0022\n",
      "Epoch 120/200\n",
      "40/40 [==============================] - 1s 15ms/step - loss: 8.0138e-04 - val_loss: 0.0022\n",
      "Epoch 121/200\n",
      "40/40 [==============================] - 1s 14ms/step - loss: 8.4813e-04 - val_loss: 0.0027\n",
      "Epoch 122/200\n",
      "40/40 [==============================] - 1s 14ms/step - loss: 8.3847e-04 - val_loss: 0.0021\n",
      "Epoch 123/200\n",
      "40/40 [==============================] - 1s 14ms/step - loss: 8.1512e-04 - val_loss: 0.0022\n",
      "Epoch 124/200\n",
      "40/40 [==============================] - 1s 15ms/step - loss: 8.0037e-04 - val_loss: 0.0021\n",
      "Epoch 125/200\n",
      "40/40 [==============================] - 1s 15ms/step - loss: 8.9068e-04 - val_loss: 0.0023\n",
      "Epoch 126/200\n",
      "40/40 [==============================] - 1s 15ms/step - loss: 8.3670e-04 - val_loss: 0.0021\n",
      "Epoch 127/200\n",
      "40/40 [==============================] - 1s 15ms/step - loss: 8.0647e-04 - val_loss: 0.0023\n",
      "Epoch 128/200\n",
      "40/40 [==============================] - 1s 14ms/step - loss: 8.2376e-04 - val_loss: 0.0020\n",
      "Epoch 129/200\n",
      "40/40 [==============================] - 1s 14ms/step - loss: 8.0045e-04 - val_loss: 0.0023\n",
      "Epoch 130/200\n",
      "40/40 [==============================] - 1s 15ms/step - loss: 8.1367e-04 - val_loss: 0.0019\n",
      "Epoch 131/200\n",
      "40/40 [==============================] - 1s 15ms/step - loss: 8.5144e-04 - val_loss: 0.0020\n",
      "Epoch 132/200\n",
      "40/40 [==============================] - 1s 16ms/step - loss: 9.0268e-04 - val_loss: 0.0029\n",
      "Epoch 133/200\n",
      "40/40 [==============================] - 1s 17ms/step - loss: 8.4168e-04 - val_loss: 0.0022\n",
      "Epoch 134/200\n",
      "40/40 [==============================] - 1s 15ms/step - loss: 7.9464e-04 - val_loss: 0.0021\n",
      "Epoch 135/200\n",
      "40/40 [==============================] - 1s 14ms/step - loss: 8.4314e-04 - val_loss: 0.0022\n",
      "Epoch 136/200\n",
      "40/40 [==============================] - 1s 14ms/step - loss: 7.8956e-04 - val_loss: 0.0022\n",
      "Epoch 137/200\n",
      "40/40 [==============================] - 1s 14ms/step - loss: 8.1484e-04 - val_loss: 0.0026\n",
      "Epoch 138/200\n",
      "40/40 [==============================] - 1s 15ms/step - loss: 8.6458e-04 - val_loss: 0.0022\n",
      "Epoch 139/200\n",
      "40/40 [==============================] - 1s 15ms/step - loss: 7.7058e-04 - val_loss: 0.0021\n",
      "Epoch 140/200\n",
      "40/40 [==============================] - 1s 15ms/step - loss: 8.2108e-04 - val_loss: 0.0024\n",
      "Epoch 141/200\n",
      "40/40 [==============================] - 1s 16ms/step - loss: 7.6012e-04 - val_loss: 0.0023\n",
      "Epoch 142/200\n",
      "40/40 [==============================] - 1s 14ms/step - loss: 7.9885e-04 - val_loss: 0.0021\n",
      "Epoch 143/200\n",
      "40/40 [==============================] - 1s 14ms/step - loss: 8.2612e-04 - val_loss: 0.0020\n",
      "Epoch 144/200\n",
      "40/40 [==============================] - 1s 14ms/step - loss: 7.9322e-04 - val_loss: 0.0022\n",
      "Epoch 145/200\n",
      "40/40 [==============================] - 1s 15ms/step - loss: 7.8466e-04 - val_loss: 0.0031\n",
      "Epoch 146/200\n",
      "40/40 [==============================] - 1s 15ms/step - loss: 9.2203e-04 - val_loss: 0.0025\n",
      "Epoch 147/200\n",
      "40/40 [==============================] - 1s 15ms/step - loss: 7.9660e-04 - val_loss: 0.0024\n",
      "Epoch 148/200\n",
      "40/40 [==============================] - 1s 14ms/step - loss: 9.4333e-04 - val_loss: 0.0019\n",
      "Epoch 149/200\n",
      "40/40 [==============================] - 1s 15ms/step - loss: 8.6078e-04 - val_loss: 0.0024\n",
      "Epoch 150/200\n",
      "40/40 [==============================] - 1s 15ms/step - loss: 8.5212e-04 - val_loss: 0.0020\n",
      "Epoch 151/200\n",
      "40/40 [==============================] - 1s 15ms/step - loss: 7.8776e-04 - val_loss: 0.0022\n",
      "Epoch 152/200\n",
      "40/40 [==============================] - 1s 15ms/step - loss: 8.5066e-04 - val_loss: 0.0020\n",
      "Epoch 153/200\n",
      "40/40 [==============================] - 1s 15ms/step - loss: 8.7634e-04 - val_loss: 0.0022\n",
      "Epoch 154/200\n",
      "40/40 [==============================] - 1s 15ms/step - loss: 7.9333e-04 - val_loss: 0.0020\n",
      "Epoch 155/200\n",
      "40/40 [==============================] - 1s 14ms/step - loss: 8.7818e-04 - val_loss: 0.0024\n",
      "Epoch 156/200\n",
      "40/40 [==============================] - 1s 14ms/step - loss: 8.0106e-04 - val_loss: 0.0022\n",
      "Epoch 157/200\n",
      "40/40 [==============================] - 1s 14ms/step - loss: 7.9922e-04 - val_loss: 0.0022\n",
      "Epoch 158/200\n"
     ]
    },
    {
     "name": "stdout",
     "output_type": "stream",
     "text": [
      "40/40 [==============================] - 1s 16ms/step - loss: 7.3760e-04 - val_loss: 0.0022\n",
      "Epoch 159/200\n",
      "40/40 [==============================] - 1s 15ms/step - loss: 7.6486e-04 - val_loss: 0.0023\n",
      "Epoch 160/200\n",
      "40/40 [==============================] - 1s 15ms/step - loss: 9.6867e-04 - val_loss: 0.0023\n",
      "Epoch 161/200\n",
      "40/40 [==============================] - 1s 14ms/step - loss: 8.7625e-04 - val_loss: 0.0034\n",
      "Epoch 162/200\n",
      "40/40 [==============================] - 1s 14ms/step - loss: 7.7988e-04 - val_loss: 0.0019\n",
      "Epoch 163/200\n",
      "40/40 [==============================] - 1s 14ms/step - loss: 7.5757e-04 - val_loss: 0.0028\n",
      "Epoch 164/200\n",
      "40/40 [==============================] - 1s 14ms/step - loss: 7.2729e-04 - val_loss: 0.0025\n",
      "Epoch 165/200\n",
      "40/40 [==============================] - 1s 15ms/step - loss: 7.9152e-04 - val_loss: 0.0029\n",
      "Epoch 166/200\n",
      "40/40 [==============================] - 1s 16ms/step - loss: 8.2859e-04 - val_loss: 0.0025\n",
      "Epoch 167/200\n",
      "40/40 [==============================] - 1s 16ms/step - loss: 7.3633e-04 - val_loss: 0.0026\n",
      "Epoch 168/200\n",
      "40/40 [==============================] - 1s 14ms/step - loss: 7.6300e-04 - val_loss: 0.0023\n",
      "Epoch 169/200\n",
      "40/40 [==============================] - 1s 14ms/step - loss: 7.9998e-04 - val_loss: 0.0022\n",
      "Epoch 170/200\n",
      "40/40 [==============================] - 1s 14ms/step - loss: 8.3957e-04 - val_loss: 0.0020\n",
      "Epoch 171/200\n",
      "40/40 [==============================] - 1s 14ms/step - loss: 8.0096e-04 - val_loss: 0.0027\n",
      "Epoch 172/200\n",
      "40/40 [==============================] - 1s 15ms/step - loss: 7.9432e-04 - val_loss: 0.0021\n",
      "Epoch 173/200\n",
      "40/40 [==============================] - 1s 15ms/step - loss: 7.5156e-04 - val_loss: 0.0022\n",
      "Epoch 174/200\n",
      "40/40 [==============================] - 1s 15ms/step - loss: 7.7060e-04 - val_loss: 0.0028\n",
      "Epoch 175/200\n",
      "40/40 [==============================] - 1s 16ms/step - loss: 8.1337e-04 - val_loss: 0.0022\n",
      "Epoch 176/200\n",
      "40/40 [==============================] - 1s 14ms/step - loss: 7.2683e-04 - val_loss: 0.0021\n",
      "Epoch 177/200\n",
      "40/40 [==============================] - 1s 14ms/step - loss: 8.1053e-04 - val_loss: 0.0026\n",
      "Epoch 178/200\n",
      "40/40 [==============================] - 1s 14ms/step - loss: 7.6878e-04 - val_loss: 0.0023\n",
      "Epoch 179/200\n",
      "40/40 [==============================] - 1s 15ms/step - loss: 7.7894e-04 - val_loss: 0.0021\n",
      "Epoch 180/200\n",
      "40/40 [==============================] - 1s 15ms/step - loss: 7.3306e-04 - val_loss: 0.0020\n",
      "Epoch 181/200\n",
      "40/40 [==============================] - 1s 15ms/step - loss: 7.8361e-04 - val_loss: 0.0021\n",
      "Epoch 182/200\n",
      "40/40 [==============================] - 1s 14ms/step - loss: 7.6110e-04 - val_loss: 0.0022\n",
      "Epoch 183/200\n",
      "40/40 [==============================] - 1s 15ms/step - loss: 7.5927e-04 - val_loss: 0.0021\n",
      "Epoch 184/200\n",
      "40/40 [==============================] - 1s 15ms/step - loss: 8.6476e-04 - val_loss: 0.0026\n",
      "Epoch 185/200\n",
      "40/40 [==============================] - 1s 15ms/step - loss: 8.0380e-04 - val_loss: 0.0023\n",
      "Epoch 186/200\n",
      "40/40 [==============================] - 1s 15ms/step - loss: 7.4824e-04 - val_loss: 0.0023\n",
      "Epoch 187/200\n",
      "40/40 [==============================] - 1s 16ms/step - loss: 6.8590e-04 - val_loss: 0.0025\n",
      "Epoch 188/200\n",
      "40/40 [==============================] - 1s 15ms/step - loss: 7.7363e-04 - val_loss: 0.0032\n",
      "Epoch 189/200\n",
      "40/40 [==============================] - 1s 14ms/step - loss: 7.4754e-04 - val_loss: 0.0025\n",
      "Epoch 190/200\n",
      "40/40 [==============================] - 1s 14ms/step - loss: 7.4579e-04 - val_loss: 0.0028\n",
      "Epoch 191/200\n",
      "40/40 [==============================] - 1s 14ms/step - loss: 7.4733e-04 - val_loss: 0.0022\n",
      "Epoch 192/200\n",
      "40/40 [==============================] - 1s 16ms/step - loss: 6.7392e-04 - val_loss: 0.0028\n",
      "Epoch 193/200\n",
      "40/40 [==============================] - 1s 15ms/step - loss: 7.0450e-04 - val_loss: 0.0021\n",
      "Epoch 194/200\n",
      "40/40 [==============================] - 1s 15ms/step - loss: 7.1987e-04 - val_loss: 0.0027\n",
      "Epoch 195/200\n",
      "40/40 [==============================] - 1s 14ms/step - loss: 8.3600e-04 - val_loss: 0.0031\n",
      "Epoch 196/200\n",
      "40/40 [==============================] - 1s 18ms/step - loss: 7.3013e-04 - val_loss: 0.0021\n",
      "Epoch 197/200\n",
      "40/40 [==============================] - 1s 16ms/step - loss: 7.8970e-04 - val_loss: 0.0033\n",
      "Epoch 198/200\n",
      "40/40 [==============================] - 1s 15ms/step - loss: 8.0113e-04 - val_loss: 0.0022\n",
      "Epoch 199/200\n",
      "40/40 [==============================] - 1s 15ms/step - loss: 7.2316e-04 - val_loss: 0.0027\n",
      "Epoch 200/200\n",
      "40/40 [==============================] - 1s 16ms/step - loss: 6.9249e-04 - val_loss: 0.0026\n"
     ]
    },
    {
     "data": {
      "text/plain": [
       "<keras.callbacks.History at 0x7fbf736ce910>"
      ]
     },
     "execution_count": 60,
     "metadata": {},
     "output_type": "execute_result"
    }
   ],
   "source": [
    "lstm_input = Input(shape=(backcandles, 8), name='lstm_input')\n",
    "inputs = LSTM(150, name='first_layer')(lstm_input)\n",
    "inputs = Dense(1, name='dense_layer')(inputs)\n",
    "output = Activation('linear', name='output')(inputs)\n",
    "model = Model(inputs=lstm_input, outputs=output)\n",
    "adam = optimizers.Adam()\n",
    "model.compile(optimizer=adam, loss='mse')\n",
    "model.fit(x=X_train, y=y_train, batch_size=15, epochs=200, shuffle=True, validation_split = 0.1)"
   ]
  },
  {
   "cell_type": "code",
   "execution_count": 62,
   "id": "ca6f2bdf",
   "metadata": {
    "ExecuteTime": {
     "end_time": "2023-03-28T02:16:53.179415Z",
     "start_time": "2023-03-28T02:16:52.849817Z"
    }
   },
   "outputs": [
    {
     "name": "stdout",
     "output_type": "stream",
     "text": [
      "6/6 [==============================] - 0s 5ms/step\n",
      "[0.6753315] [0.7100359]\n",
      "[0.6738801] [0.71036148]\n",
      "[0.688016] [0.71886866]\n",
      "[0.69875187] [0.73637136]\n",
      "[0.72144544] [0.73954977]\n",
      "[0.76063204] [0.68695602]\n",
      "[0.787177] [0.6927474]\n",
      "[0.74422085] [0.67452506]\n",
      "[0.7321267] [0.70285661]\n",
      "[0.68703437] [0.68299797]\n"
     ]
    }
   ],
   "source": [
    "y_pred = model.predict(X_test)\n",
    "#y_pred=np.where(y_pred > 0.43, 1,0)\n",
    "for i in range(10):\n",
    "    print(y_pred[i], y_test[i])"
   ]
  },
  {
   "cell_type": "code",
   "execution_count": 63,
   "id": "f9ad75e4",
   "metadata": {
    "ExecuteTime": {
     "end_time": "2023-03-28T02:16:54.834953Z",
     "start_time": "2023-03-28T02:16:54.704945Z"
    }
   },
   "outputs": [
    {
     "data": {
      "image/png": "[encoded data removed]",
      "text/plain": [
       "<Figure size 1152x576 with 1 Axes>"
      ]
     },
     "metadata": {
      "needs_background": "light"
     },
     "output_type": "display_data"
    }
   ],
   "source": [
    "plt.figure(figsize=(16,8))\n",
    "plt.plot(y_test, color = 'black', label = 'Test')\n",
    "plt.plot(y_pred, color = 'green', label = 'pred')\n",
    "plt.legend()\n",
    "plt.show()"
   ]
  }
 ],
 "metadata": {
  "kernelspec": {
   "display_name": "DSLAB",
   "language": "python",
   "name": "dslab"
  },
  "language_info": {
   "codemirror_mode": {
    "name": "ipython",
    "version": 3
   },
   "file_extension": ".py",
   "mimetype": "text/x-python",
   "name": "python",
   "nbconvert_exporter": "python",
   "pygments_lexer": "ipython3",
   "version": "3.9.12"
  },
  "toc": {
   "base_numbering": 1,
   "nav_menu": {},
   "number_sections": true,
   "sideBar": true,
   "skip_h1_title": false,
   "title_cell": "Table of Contents",
   "title_sidebar": "Contents",
   "toc_cell": false,
   "toc_position": {},
   "toc_section_display": true,
   "toc_window_display": false
  }
 },
 "nbformat": 4,
 "nbformat_minor": 5
}
